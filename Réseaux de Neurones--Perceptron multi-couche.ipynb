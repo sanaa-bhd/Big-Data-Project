{
 "cells": [
  {
   "cell_type": "markdown",
   "metadata": {},
   "source": [
    "# Réseaux de Neurones / Perceptrons multi-couche"
   ]
  },
  {
   "cell_type": "code",
   "execution_count": 2,
   "metadata": {},
   "outputs": [],
   "source": [
    "import pandas as pd\n",
    "import numpy as np\n",
    "from matplotlib import pyplot as plt\n",
    "import matplotlib\n",
    "import tensorflow as tf\n",
    "from tensorflow import keras\n",
    "import pickle\n",
    "import time\n",
    "from IPython.display import clear_output"
   ]
  },
  {
   "cell_type": "markdown",
   "metadata": {},
   "source": [
    "La fonction **create_columns** creer des entête pour tous les colonne du fichier csv qui va nous permet d'extraire le colonne des label facilement."
   ]
  },
  {
   "cell_type": "code",
   "execution_count": 3,
   "metadata": {},
   "outputs": [],
   "source": [
    "def create_columns():\n",
    "    cols = ['num']\n",
    "    for i in range(784):\n",
    "        cols.append(str(i+1))\n",
    "    return cols\n",
    "cols = create_columns()"
   ]
  },
  {
   "cell_type": "markdown",
   "metadata": {},
   "source": [
    "La fonction **load_data**\n",
    "prend 2 paramètres:\n",
    "     <br> &nbsp;&nbsp;&nbsp;&nbsp;&nbsp;&nbsp;&nbsp; file: le chemins vers le fichier csv qui contient les données.\n",
    "     <br> &nbsp;&nbsp;&nbsp;&nbsp;&nbsp;&nbsp;&nbsp; header: default None , None pour un fichier csv sans entête.\n",
    "    \n",
    "La fonction **load_data** lit le fichier dans 'file' et return un objet de type pandas.core.frame.Dataframe contenant les données du fichier csv.\n",
    "\n",
    "Après la lecture des données nous allons utiliser la méthodes sample du class pandas.core.frame.DataFrame pour mélanger les données pour qu'on obtient à chaque fois des données differents.\n",
    "\n",
    "La fonction **load_used_data** permet de charger les données utiliser dans ce test."
   ]
  },
  {
   "cell_type": "code",
   "execution_count": 4,
   "metadata": {},
   "outputs": [],
   "source": [
    "def load_data(file, header=None):\n",
    "    mnist = pd.read_csv(file, header=header, names=cols)\n",
    "    mnist = mnist.sample(frac=1).reset_index(drop=True)\n",
    "    return mnist"
   ]
  },
  {
   "cell_type": "code",
   "execution_count": 5,
   "metadata": {},
   "outputs": [],
   "source": [
    "def load_used_data():\n",
    "    mnist = pd.read_csv('my_mnist.csv', index_col=0)\n",
    "    return mnist"
   ]
  },
  {
   "cell_type": "markdown",
   "metadata": {},
   "source": [
    "La fonction **divise_donnees** prend trois paramètre:\n",
    " <br>&nbsp;&nbsp;&nbsp;&nbsp;&nbsp;&nbsp;   1- un variable de type pandas.core.frame.Dataframe contenant tous les données (apprentissage, test, et validation).\n",
    " <br>&nbsp;&nbsp;&nbsp;&nbsp;&nbsp;&nbsp;   2- deuxiéme et troisiéme params sont des float quit représente le percentage 'p_appr' d'apprentissage, 'p_test' de test.\n",
    "\n",
    "*1er étape* :La fonction génére 3 variable train, test, et val.\n",
    " <br>&nbsp;&nbsp;&nbsp;&nbsp;&nbsp;&nbsp;   **train** contient les données d'apprentissage ( train = mnist[:appr] => de l'index 0 jusq'à lindex 'appr')\n",
    " <br>&nbsp;&nbsp;&nbsp;&nbsp;&nbsp;&nbsp;   **test** contient les données du test (test = mnist[appr:tst] => de l'index 'appr' jusqu'à l'index 'tst')\n",
    " <br> &nbsp;&nbsp;&nbsp;&nbsp;&nbsp;&nbsp;  **val** contient les données de validation (ce qui reste de la dataframe)\n",
    "\n",
    "*2éme étape*: La fonction extrait la colonne num ( 1er colonne) du variable train, test, val et les stocke dans les varibale trainY, testY et valY.\n",
    "\n",
    "La fonction return trois tuples, chaque tuple contient les données et les labels d'apprentissage, test, et validation."
   ]
  },
  {
   "cell_type": "code",
   "execution_count": 6,
   "metadata": {},
   "outputs": [],
   "source": [
    "def divise_donnees(mnist, p_appr=0.8, p_test=0.1):\n",
    "    appr = int(mnist.shape[0] * p_appr)\n",
    "    tst = appr+int(mnist.shape[0] * p_test)\n",
    "\n",
    "    train = mnist[:appr]\n",
    "    test = mnist[appr:tst]\n",
    "    val = mnist[tst:]\n",
    "    \n",
    "    print(train.shape)\n",
    "    print (train.head())\n",
    "    print (test.head())\n",
    "    print (val.head())\n",
    "    \n",
    "    trainY = train.pop('num')\n",
    "    testY = test.pop('num')\n",
    "    valY = val.pop('num')\n",
    "    train = train.values.reshape(train.shape[0], 28, 28, 1)\n",
    "    test = test.values.reshape(test.shape[0], 28, 28, 1)\n",
    "    val = val.values.reshape(val.shape[0], 28, 28, 1)\n",
    "    train = train / 255.0\n",
    "    test = test/ 255.0\n",
    "    val = val/255.0\n",
    "    return (train, trainY), (test, testY), (val, valY)"
   ]
  },
  {
   "cell_type": "markdown",
   "metadata": {},
   "source": [
    "Nous faisons appelle à la fonction **load_data** pour charger le fichier \"mnist_all.csv\" placé dans le même répertoire que ce notebook."
   ]
  },
  {
   "cell_type": "code",
   "execution_count": 9,
   "metadata": {},
   "outputs": [],
   "source": [
    "mnist = load_data(\"mnist_all.csv\")"
   ]
  },
  {
   "cell_type": "code",
   "execution_count": 10,
   "metadata": {},
   "outputs": [
    {
     "name": "stdout",
     "output_type": "stream",
     "text": [
      "(70000, 785)\n"
     ]
    }
   ],
   "source": [
    "print(mnist.shape)"
   ]
  },
  {
   "cell_type": "markdown",
   "metadata": {},
   "source": [
    "Charger notre données avec la fonction **load_used_data()** ."
   ]
  },
  {
   "cell_type": "code",
   "execution_count": 11,
   "metadata": {},
   "outputs": [],
   "source": [
    "mnist.to_csv('my_mnist.csv')"
   ]
  },
  {
   "cell_type": "code",
   "execution_count": 12,
   "metadata": {},
   "outputs": [],
   "source": [
    "mnist = load_used_data()"
   ]
  },
  {
   "cell_type": "code",
   "execution_count": 13,
   "metadata": {},
   "outputs": [
    {
     "name": "stdout",
     "output_type": "stream",
     "text": [
      "(56000, 785)\n",
      "   num  1  2  3  4  5  6  7  8  9  ...  775  776  777  778  779  780  781  \\\n",
      "0    7  0  0  0  0  0  0  0  0  0  ...    0    0    0    0    0    0    0   \n",
      "1    6  0  0  0  0  0  0  0  0  0  ...    0    0    0    0    0    0    0   \n",
      "2    0  0  0  0  0  0  0  0  0  0  ...    0    0    0    0    0    0    0   \n",
      "3    0  0  0  0  0  0  0  0  0  0  ...    0    0    0    0    0    0    0   \n",
      "4    4  0  0  0  0  0  0  0  0  0  ...    0    0    0    0    0    0    0   \n",
      "\n",
      "   782  783  784  \n",
      "0    0    0    0  \n",
      "1    0    0    0  \n",
      "2    0    0    0  \n",
      "3    0    0    0  \n",
      "4    0    0    0  \n",
      "\n",
      "[5 rows x 785 columns]\n",
      "       num  1  2  3  4  5  6  7  8  9  ...  775  776  777  778  779  780  781  \\\n",
      "56000    0  0  0  0  0  0  0  0  0  0  ...    0    0    0    0    0    0    0   \n",
      "56001    6  0  0  0  0  0  0  0  0  0  ...    0    0    0    0    0    0    0   \n",
      "56002    1  0  0  0  0  0  0  0  0  0  ...    0    0    0    0    0    0    0   \n",
      "56003    0  0  0  0  0  0  0  0  0  0  ...    0    0    0    0    0    0    0   \n",
      "56004    6  0  0  0  0  0  0  0  0  0  ...    0    0    0    0    0    0    0   \n",
      "\n",
      "       782  783  784  \n",
      "56000    0    0    0  \n",
      "56001    0    0    0  \n",
      "56002    0    0    0  \n",
      "56003    0    0    0  \n",
      "56004    0    0    0  \n",
      "\n",
      "[5 rows x 785 columns]\n",
      "       num  1  2  3  4  5  6  7  8  9  ...  775  776  777  778  779  780  781  \\\n",
      "63000    2  0  0  0  0  0  0  0  0  0  ...    0    0    0    0    0    0    0   \n",
      "63001    1  0  0  0  0  0  0  0  0  0  ...    0    0    0    0    0    0    0   \n",
      "63002    3  0  0  0  0  0  0  0  0  0  ...    0    0    0    0    0    0    0   \n",
      "63003    2  0  0  0  0  0  0  0  0  0  ...    0    0    0    0    0    0    0   \n",
      "63004    7  0  0  0  0  0  0  0  0  0  ...    0    0    0    0    0    0    0   \n",
      "\n",
      "       782  783  784  \n",
      "63000    0    0    0  \n",
      "63001    0    0    0  \n",
      "63002    0    0    0  \n",
      "63003    0    0    0  \n",
      "63004    0    0    0  \n",
      "\n",
      "[5 rows x 785 columns]\n"
     ]
    }
   ],
   "source": [
    "(trainX, trainY), (testX, testY), (valX, valY) = divise_donnees(mnist)"
   ]
  },
  {
   "cell_type": "markdown",
   "metadata": {},
   "source": [
    "### Creation des modéles "
   ]
  },
  {
   "cell_type": "markdown",
   "metadata": {},
   "source": [
    "Le **model1** contient deux couche convolutionel:\n",
    "<br>&nbsp;&nbsp;&nbsp;&nbsp;&nbsp;&nbsp;1- couche avec 32 kernel de size 3x3 et format d'entré et un tableau de matrice de taille 28x28.\n",
    "<br>&nbsp;&nbsp;&nbsp;&nbsp;&nbsp;&nbsp;2- couche avec 64 kernel de taille 3x3 et format d'entré et une matrice de taile 26x26.\n",
    "\n",
    "Deuxieme couche et une couche de 128 noeuds, la fonction d'activation utiliser est \"rectified linear unit\".\n",
    "\n",
    "La couche de sortie contient 10 noeuds.\n",
    "\n",
    "Le Flatten ne prend aucun paramètre, car il n’y a besoin de rien de particulier pour mettre toutes les images bout à bout.\n",
    "\n",
    "En revanche, le Dense qui sert à déclarer notre réseau de neurones artificiels prend en paramètre le nombre de neurones de la couche de sortie."
   ]
  },
  {
   "cell_type": "code",
   "execution_count": 15,
   "metadata": {},
   "outputs": [],
   "source": [
    "model1 = tf.keras.models.Sequential(name=\"model1\")\n",
    "model1.add(tf.keras.layers.Conv2D(32, kernel_size=(3,3), input_shape=(28, 28, 1)))\n",
    "model1.add(tf.keras.layers.MaxPooling2D(pool_size=(2, 2)))\n",
    "model1.add(tf.keras.layers.Conv2D(64, kernel_size=(3,3), input_shape=(26, 26)))\n",
    "model1.add(tf.keras.layers.MaxPooling2D(pool_size=(2,2)))\n",
    "model1.add(tf.keras.layers.Flatten()) # Flattening the 2D arrays for fully connected layers\n",
    "model1.add(tf.keras.layers.Dense(128, activation=tf.nn.relu))\n",
    "model1.add(tf.keras.layers.Dropout(0.2))\n",
    "model1.add(tf.keras.layers.Dense(10,activation=tf.nn.softmax))"
   ]
  },
  {
   "cell_type": "markdown",
   "metadata": {},
   "source": [
    "Le **model2** est une copie du model1 mais il contient deux couche cachées de 128 noeuds. \n",
    "\n",
    "la deuxieme couche cachée utilise tangent hyperbolique comme fonction d'activation\n"
   ]
  },
  {
   "cell_type": "code",
   "execution_count": 16,
   "metadata": {},
   "outputs": [],
   "source": [
    "model2 = tf.keras.models.Sequential(name=\"model2\")\n",
    "model2.add(tf.keras.layers.Conv2D(32, kernel_size=(3,3), input_shape=(28, 28, 1)))\n",
    "model2.add(tf.keras.layers.MaxPooling2D(pool_size=(2, 2)))\n",
    "model2.add(tf.keras.layers.Conv2D(64, kernel_size=(3,3), input_shape=(26, 26)))\n",
    "model2.add(tf.keras.layers.MaxPooling2D(pool_size=(2,2)))\n",
    "model2.add(tf.keras.layers.Flatten()) # Flattening the 2D arrays for fully connected layers\n",
    "model2.add(tf.keras.layers.Dense(128, activation=tf.nn.relu))\n",
    "model2.add(tf.keras.layers.Dropout(0.2))\n",
    "model2.add(tf.keras.layers.Dense(128, activation=tf.nn.tanh))\n",
    "model2.add(tf.keras.layers.Dropout(0.2))\n",
    "model2.add(tf.keras.layers.Dense(10,activation=tf.nn.softmax))"
   ]
  },
  {
   "cell_type": "markdown",
   "metadata": {},
   "source": [
    "Pour **modéle3** les deux couche cachées utilise tangent hyperbolique comme fonction d'activation.\n"
   ]
  },
  {
   "cell_type": "code",
   "execution_count": 17,
   "metadata": {},
   "outputs": [],
   "source": [
    "model3 = tf.keras.models.Sequential(name=\"model3\")\n",
    "model3.add(tf.keras.layers.Conv2D(32, kernel_size=(3,3), input_shape=(28, 28, 1)))\n",
    "model3.add(tf.keras.layers.MaxPooling2D(pool_size=(2, 2)))\n",
    "model3.add(tf.keras.layers.Conv2D(64, kernel_size=(3,3), input_shape=(26, 26)))\n",
    "model3.add(tf.keras.layers.MaxPooling2D(pool_size=(2,2)))\n",
    "model3.add(tf.keras.layers.Flatten()) # Flattening the 2D arrays for fully connected layers\n",
    "model3.add(tf.keras.layers.Dense(128, activation=tf.nn.tanh))\n",
    "model3.add(tf.keras.layers.Dropout(0.2))\n",
    "model3.add(tf.keras.layers.Dense(128, activation=tf.nn.tanh))\n",
    "model3.add(tf.keras.layers.Dropout(0.2))\n",
    "model3.add(tf.keras.layers.Dense(10,activation=tf.nn.softmax))"
   ]
  },
  {
   "cell_type": "markdown",
   "metadata": {},
   "source": [
    "Pour le **modéle4** les deux couche cachées utilise rectified linear unit comme fonction d'activation."
   ]
  },
  {
   "cell_type": "code",
   "execution_count": 18,
   "metadata": {},
   "outputs": [],
   "source": [
    "model4 = tf.keras.models.Sequential(name=\"model4\")\n",
    "model4.add(tf.keras.layers.Conv2D(32, kernel_size=(3,3), input_shape=(28, 28, 1)))\n",
    "model4.add(tf.keras.layers.MaxPooling2D(pool_size=(2, 2)))\n",
    "model4.add(tf.keras.layers.Conv2D(64, kernel_size=(3,3), input_shape=(26, 26)))\n",
    "model4.add(tf.keras.layers.MaxPooling2D(pool_size=(2,2)))\n",
    "model4.add(tf.keras.layers.Flatten()) # Flattening the 2D arrays for fully connected layers\n",
    "model4.add(tf.keras.layers.Dense(128, activation=tf.nn.relu))\n",
    "model4.add(tf.keras.layers.Dropout(0.2))\n",
    "model4.add(tf.keras.layers.Dense(128, activation=tf.nn.relu))\n",
    "model4.add(tf.keras.layers.Dropout(0.2))\n",
    "model4.add(tf.keras.layers.Dense(10,activation=tf.nn.softmax))"
   ]
  },
  {
   "cell_type": "markdown",
   "metadata": {},
   "source": [
    "Dans cette partie nous allons compiler les 4 modèles en utilisant des différent optimizers et fonction de loss, evaluer et sauvegarder ces modéles dans un fichier qu'on a crée (saved_model) pour que nous puissions les réutiliser après la phase d’apprentissage sans avoir à relancer cette phase. et puis sauvegarder les données dans un fichier data.p. "
   ]
  },
  {
   "cell_type": "code",
   "execution_count": 59,
   "metadata": {},
   "outputs": [
    {
     "name": "stdout",
     "output_type": "stream",
     "text": [
      "108/108\n",
      "execution time :  37472.74872922897\n"
     ]
    }
   ],
   "source": [
    "optimizers = ['adam', 'adamax', 'rmsprop']\n",
    "epochs = [3, 5, 10]\n",
    "batch_sizes = [None, 64, 256]\n",
    "\n",
    "data = []\n",
    "\n",
    "run = input('This process could take a lot of time are you sure you want run it (BETWEEN 7 AND 8 HOURS) [y|N]')\n",
    "\n",
    "start = time.time()\n",
    "i=0\n",
    "if run == 'y':\n",
    "    start = time.time()\n",
    "    for optimizer in optimizers:\n",
    "        for epoch in epochs:\n",
    "            for batch_size in batch_sizes:\n",
    "                \n",
    "                # compiling all the models\n",
    "                model1.compile(optimizer=optimizer, loss='sparse_categorical_crossentropy', metrics=['accuracy'])\n",
    "                model2.compile(optimizer=optimizer, loss='sparse_categorical_crossentropy', metrics=['accuracy'])\n",
    "                model3.compile(optimizer=optimizer, loss='sparse_categorical_crossentropy', metrics=['accuracy'])\n",
    "                model4.compile(optimizer=optimizer, loss='sparse_categorical_crossentropy', metrics=['accuracy'])\n",
    "                \n",
    "                # trainning the models\n",
    "                model1.fit(trainX, trainY, validation_data=(valX, valY), epochs=epoch, batch_size=batch_size)\n",
    "                model2.fit(trainX, trainY, validation_data=(valX, valY), epochs=epoch, batch_size=batch_size)\n",
    "                model3.fit(trainX, trainY, validation_data=(valX, valY), epochs=epoch, batch_size=batch_size)\n",
    "                model4.fit(trainX, trainY, validation_data=(valX, valY), epochs=epoch, batch_size=batch_size)\n",
    "                \n",
    "                # evaluating the models\n",
    "                loss1, acc1 = model1.evaluate(testX, testY)\n",
    "                loss2, acc2 = model2.evaluate(testX, testY)\n",
    "                loss3, acc3 = model3.evaluate(testX, testY)\n",
    "                loss4, acc4 = model4.evaluate(testX, testY)\n",
    "                \n",
    "                # saving the models so we don't have to train them again\n",
    "                model1.save('saved_model/'+model1.name+\"_\"+optimizer+\"_\"+str(batch_size)+\"_\"+str(epoch))\n",
    "                model2.save('saved_model/'+model2.name+\"_\"+optimizer+\"_\"+str(batch_size)+\"_\"+str(epoch))\n",
    "                model3.save('saved_model/'+model3.name+\"_\"+optimizer+\"_\"+str(batch_size)+\"_\"+str(epoch))\n",
    "                model4.save('saved_model/'+model4.name+\"_\"+optimizer+\"_\"+str(batch_size)+\"_\"+str(epoch))\n",
    "                                \n",
    "                # saving the data\n",
    "                info1 = {'model': model1.name, 'accuracy': acc1, 'loss': loss1, 'optimizer':optimizer, 'batch_size':batch_size, 'epochs':epoch}\n",
    "                info2 = {'model': model2.name, 'accuracy': acc2, 'loss': loss2, 'optimizer':optimizer, 'batch_size':batch_size, 'epochs':epoch}\n",
    "                info3 = {'model': model3.name, 'accuracy': acc3, 'loss': loss3, 'optimizer':optimizer, 'batch_size':batch_size, 'epochs':epoch}\n",
    "                info4 = {'model': model4.name, 'accuracy': acc4, 'loss': loss4, 'optimizer':optimizer, 'batch_size':batch_size, 'epochs':epoch}\n",
    "                \n",
    "                data.append(info1)\n",
    "                data.append(info2)\n",
    "                data.append(info3)\n",
    "                data.append(info4)\n",
    "                clear_output()\n",
    "                i+=4\n",
    "                pickle.dump(data, open(\"data_notcomplete.p\", \"wb\"))\n",
    "                print(str(i)+'/108')\n",
    "                \n",
    "end = time.time()\n",
    "print('execution time : ', end - start)\n",
    "# saving data into a pickle file so we dont have to train all the models again\n",
    "pickle.dump( data, open( \"data.p\", \"wb\" ))\n",
    "\n"
   ]
  },
  {
   "cell_type": "markdown",
   "metadata": {},
   "source": [
    "Charger notre modéles"
   ]
  },
  {
   "cell_type": "code",
   "execution_count": 20,
   "metadata": {},
   "outputs": [
    {
     "name": "stdout",
     "output_type": "stream",
     "text": [
      "[{'model': 'model1', 'accuracy': 0.9875714182853699, 'loss': 0.04993966024888712, 'optimizer': 'adam', 'batch_size': None, 'epochs': 3}, {'model': 'model2', 'accuracy': 0.9855714440345764, 'loss': 0.0520970665847417, 'optimizer': 'adam', 'batch_size': None, 'epochs': 3}, {'model': 'model3', 'accuracy': 0.9858571290969849, 'loss': 0.04793939321428271, 'optimizer': 'adam', 'batch_size': None, 'epochs': 3}, {'model': 'model4', 'accuracy': 0.9868571162223816, 'loss': 0.04855320831614413, 'optimizer': 'adam', 'batch_size': None, 'epochs': 3}, {'model': 'model1', 'accuracy': 0.9895714521408081, 'loss': 0.039483296086097006, 'optimizer': 'adam', 'batch_size': 64, 'epochs': 3}, {'model': 'model2', 'accuracy': 0.9882857203483582, 'loss': 0.04669764697162568, 'optimizer': 'adam', 'batch_size': 64, 'epochs': 3}, {'model': 'model3', 'accuracy': 0.9875714182853699, 'loss': 0.051203603621538994, 'optimizer': 'adam', 'batch_size': 64, 'epochs': 3}, {'model': 'model4', 'accuracy': 0.9871428608894348, 'loss': 0.051781013865738974, 'optimizer': 'adam', 'batch_size': 64, 'epochs': 3}, {'model': 'model1', 'accuracy': 0.9908571243286133, 'loss': 0.03909277823839719, 'optimizer': 'adam', 'batch_size': 256, 'epochs': 3}, {'model': 'model2', 'accuracy': 0.9891428351402283, 'loss': 0.05259350423193453, 'optimizer': 'adam', 'batch_size': 256, 'epochs': 3}, {'model': 'model3', 'accuracy': 0.9892857074737549, 'loss': 0.04207000664269435, 'optimizer': 'adam', 'batch_size': 256, 'epochs': 3}, {'model': 'model4', 'accuracy': 0.9902856945991516, 'loss': 0.04084520724273508, 'optimizer': 'adam', 'batch_size': 256, 'epochs': 3}, {'model': 'model1', 'accuracy': 0.9882857203483582, 'loss': 0.05361804073519514, 'optimizer': 'adam', 'batch_size': None, 'epochs': 5}, {'model': 'model2', 'accuracy': 0.9900000095367432, 'loss': 0.04742217762342521, 'optimizer': 'adam', 'batch_size': None, 'epochs': 5}, {'model': 'model3', 'accuracy': 0.9857142567634583, 'loss': 0.05208095663280359, 'optimizer': 'adam', 'batch_size': None, 'epochs': 5}, {'model': 'model4', 'accuracy': 0.9862856864929199, 'loss': 0.0585454888135464, 'optimizer': 'adam', 'batch_size': None, 'epochs': 5}, {'model': 'model1', 'accuracy': 0.9884285926818848, 'loss': 0.0771887748707157, 'optimizer': 'adam', 'batch_size': 64, 'epochs': 5}, {'model': 'model2', 'accuracy': 0.9900000095367432, 'loss': 0.05314936672828792, 'optimizer': 'adam', 'batch_size': 64, 'epochs': 5}, {'model': 'model3', 'accuracy': 0.9879999756813049, 'loss': 0.05339494800026712, 'optimizer': 'adam', 'batch_size': 64, 'epochs': 5}, {'model': 'model4', 'accuracy': 0.9879999756813049, 'loss': 0.0601037734302485, 'optimizer': 'adam', 'batch_size': 64, 'epochs': 5}, {'model': 'model1', 'accuracy': 0.9901428818702698, 'loss': 0.06925100624383584, 'optimizer': 'adam', 'batch_size': 256, 'epochs': 5}, {'model': 'model2', 'accuracy': 0.9912857413291931, 'loss': 0.05153355142827786, 'optimizer': 'adam', 'batch_size': 256, 'epochs': 5}, {'model': 'model3', 'accuracy': 0.9897142648696899, 'loss': 0.04965473941341354, 'optimizer': 'adam', 'batch_size': 256, 'epochs': 5}, {'model': 'model4', 'accuracy': 0.9905714392662048, 'loss': 0.06294137926265682, 'optimizer': 'adam', 'batch_size': 256, 'epochs': 5}, {'model': 'model1', 'accuracy': 0.9882857203483582, 'loss': 0.09554653346696954, 'optimizer': 'adam', 'batch_size': None, 'epochs': 10}, {'model': 'model2', 'accuracy': 0.9895714521408081, 'loss': 0.05353159296455643, 'optimizer': 'adam', 'batch_size': None, 'epochs': 10}, {'model': 'model3', 'accuracy': 0.9882857203483582, 'loss': 0.05687126850835713, 'optimizer': 'adam', 'batch_size': None, 'epochs': 10}, {'model': 'model4', 'accuracy': 0.9894285798072815, 'loss': 0.07060282179336409, 'optimizer': 'adam', 'batch_size': None, 'epochs': 10}, {'model': 'model1', 'accuracy': 0.9885714054107666, 'loss': 0.07490528398626409, 'optimizer': 'adam', 'batch_size': 64, 'epochs': 10}, {'model': 'model2', 'accuracy': 0.9892857074737549, 'loss': 0.06011716746041826, 'optimizer': 'adam', 'batch_size': 64, 'epochs': 10}, {'model': 'model3', 'accuracy': 0.9875714182853699, 'loss': 0.05338809601665915, 'optimizer': 'adam', 'batch_size': 64, 'epochs': 10}, {'model': 'model4', 'accuracy': 0.9900000095367432, 'loss': 0.08235533656908788, 'optimizer': 'adam', 'batch_size': 64, 'epochs': 10}, {'model': 'model1', 'accuracy': 0.9915714263916016, 'loss': 0.09027364258205281, 'optimizer': 'adam', 'batch_size': 256, 'epochs': 10}, {'model': 'model2', 'accuracy': 0.9909999966621399, 'loss': 0.05535967376754394, 'optimizer': 'adam', 'batch_size': 256, 'epochs': 10}, {'model': 'model3', 'accuracy': 0.9891428351402283, 'loss': 0.05591109912184688, 'optimizer': 'adam', 'batch_size': 256, 'epochs': 10}, {'model': 'model4', 'accuracy': 0.9911428689956665, 'loss': 0.08520752820916656, 'optimizer': 'adam', 'batch_size': 256, 'epochs': 10}, {'model': 'model1', 'accuracy': 0.9912857413291931, 'loss': 0.08728229101884033, 'optimizer': 'adamax', 'batch_size': None, 'epochs': 3}, {'model': 'model2', 'accuracy': 0.9917142987251282, 'loss': 0.06059268351402118, 'optimizer': 'adamax', 'batch_size': None, 'epochs': 3}, {'model': 'model3', 'accuracy': 0.9890000224113464, 'loss': 0.06207524012856577, 'optimizer': 'adamax', 'batch_size': None, 'epochs': 3}, {'model': 'model4', 'accuracy': 0.9904285669326782, 'loss': 0.10546942686206168, 'optimizer': 'adamax', 'batch_size': None, 'epochs': 3}, {'model': 'model1', 'accuracy': 0.9924286007881165, 'loss': 0.0790746036359165, 'optimizer': 'adamax', 'batch_size': 64, 'epochs': 3}, {'model': 'model2', 'accuracy': 0.9909999966621399, 'loss': 0.06522200738700173, 'optimizer': 'adamax', 'batch_size': 64, 'epochs': 3}, {'model': 'model3', 'accuracy': 0.9897142648696899, 'loss': 0.05991457246349091, 'optimizer': 'adamax', 'batch_size': 64, 'epochs': 3}, {'model': 'model4', 'accuracy': 0.9911428689956665, 'loss': 0.11168692998760435, 'optimizer': 'adamax', 'batch_size': 64, 'epochs': 3}, {'model': 'model1', 'accuracy': 0.9921428561210632, 'loss': 0.08170548778263464, 'optimizer': 'adamax', 'batch_size': 256, 'epochs': 3}, {'model': 'model2', 'accuracy': 0.9918571710586548, 'loss': 0.06295587689956261, 'optimizer': 'adamax', 'batch_size': 256, 'epochs': 3}, {'model': 'model3', 'accuracy': 0.9891428351402283, 'loss': 0.06390249294976372, 'optimizer': 'adamax', 'batch_size': 256, 'epochs': 3}, {'model': 'model4', 'accuracy': 0.9908571243286133, 'loss': 0.11529904013042798, 'optimizer': 'adamax', 'batch_size': 256, 'epochs': 3}, {'model': 'model1', 'accuracy': 0.9919999837875366, 'loss': 0.09088874677475227, 'optimizer': 'adamax', 'batch_size': None, 'epochs': 5}, {'model': 'model2', 'accuracy': 0.9909999966621399, 'loss': 0.07633153545788472, 'optimizer': 'adamax', 'batch_size': None, 'epochs': 5}, {'model': 'model3', 'accuracy': 0.9898571372032166, 'loss': 0.06648659702028807, 'optimizer': 'adamax', 'batch_size': None, 'epochs': 5}, {'model': 'model4', 'accuracy': 0.9907143115997314, 'loss': 0.12338280772698758, 'optimizer': 'adamax', 'batch_size': None, 'epochs': 5}, {'model': 'model1', 'accuracy': 0.9922857284545898, 'loss': 0.09389797186580769, 'optimizer': 'adamax', 'batch_size': 64, 'epochs': 5}, {'model': 'model2', 'accuracy': 0.9918571710586548, 'loss': 0.07118121180762832, 'optimizer': 'adamax', 'batch_size': 64, 'epochs': 5}, {'model': 'model3', 'accuracy': 0.9895714521408081, 'loss': 0.06757911187690417, 'optimizer': 'adamax', 'batch_size': 64, 'epochs': 5}, {'model': 'model4', 'accuracy': 0.9912857413291931, 'loss': 0.1288029717152024, 'optimizer': 'adamax', 'batch_size': 64, 'epochs': 5}, {'model': 'model1', 'accuracy': 0.9912857413291931, 'loss': 0.09309340943779575, 'optimizer': 'adamax', 'batch_size': 256, 'epochs': 5}, {'model': 'model2', 'accuracy': 0.991428554058075, 'loss': 0.0750692511691669, 'optimizer': 'adamax', 'batch_size': 256, 'epochs': 5}, {'model': 'model3', 'accuracy': 0.9900000095367432, 'loss': 0.06572775129687461, 'optimizer': 'adamax', 'batch_size': 256, 'epochs': 5}, {'model': 'model4', 'accuracy': 0.9912857413291931, 'loss': 0.12818893075736726, 'optimizer': 'adamax', 'batch_size': 256, 'epochs': 5}, {'model': 'model1', 'accuracy': 0.9918571710586548, 'loss': 0.08944070891909008, 'optimizer': 'adamax', 'batch_size': None, 'epochs': 10}, {'model': 'model2', 'accuracy': 0.9911428689956665, 'loss': 0.07776927225502352, 'optimizer': 'adamax', 'batch_size': None, 'epochs': 10}, {'model': 'model3', 'accuracy': 0.9897142648696899, 'loss': 0.07283746110958825, 'optimizer': 'adamax', 'batch_size': None, 'epochs': 10}, {'model': 'model4', 'accuracy': 0.9911428689956665, 'loss': 0.13863745849185968, 'optimizer': 'adamax', 'batch_size': None, 'epochs': 10}, {'model': 'model1', 'accuracy': 0.9911428689956665, 'loss': 0.0944880030211372, 'optimizer': 'adamax', 'batch_size': 64, 'epochs': 10}, {'model': 'model2', 'accuracy': 0.9918571710586548, 'loss': 0.07751680364413813, 'optimizer': 'adamax', 'batch_size': 64, 'epochs': 10}, {'model': 'model3', 'accuracy': 0.9904285669326782, 'loss': 0.07360951749190892, 'optimizer': 'adamax', 'batch_size': 64, 'epochs': 10}, {'model': 'model4', 'accuracy': 0.9908571243286133, 'loss': 0.15197728319643763, 'optimizer': 'adamax', 'batch_size': 64, 'epochs': 10}, {'model': 'model1', 'accuracy': 0.9924286007881165, 'loss': 0.09184012696102455, 'optimizer': 'adamax', 'batch_size': 256, 'epochs': 10}, {'model': 'model2', 'accuracy': 0.9917142987251282, 'loss': 0.08238413809195903, 'optimizer': 'adamax', 'batch_size': 256, 'epochs': 10}, {'model': 'model3', 'accuracy': 0.9905714392662048, 'loss': 0.07180516776286135, 'optimizer': 'adamax', 'batch_size': 256, 'epochs': 10}, {'model': 'model4', 'accuracy': 0.9912857413291931, 'loss': 0.15017374386448815, 'optimizer': 'adamax', 'batch_size': 256, 'epochs': 10}, {'model': 'model1', 'accuracy': 0.9908571243286133, 'loss': 0.1227125114683993, 'optimizer': 'rmsprop', 'batch_size': None, 'epochs': 3}, {'model': 'model2', 'accuracy': 0.9897142648696899, 'loss': 0.11137247490592758, 'optimizer': 'rmsprop', 'batch_size': None, 'epochs': 3}, {'model': 'model3', 'accuracy': 0.9895714521408081, 'loss': 0.1055793450415225, 'optimizer': 'rmsprop', 'batch_size': None, 'epochs': 3}, {'model': 'model4', 'accuracy': 0.9891428351402283, 'loss': 0.2477837392350902, 'optimizer': 'rmsprop', 'batch_size': None, 'epochs': 3}, {'model': 'model1', 'accuracy': 0.9912857413291931, 'loss': 0.1343842767676478, 'optimizer': 'rmsprop', 'batch_size': 64, 'epochs': 3}, {'model': 'model2', 'accuracy': 0.9911428689956665, 'loss': 0.12062514074518751, 'optimizer': 'rmsprop', 'batch_size': 64, 'epochs': 3}, {'model': 'model3', 'accuracy': 0.9907143115997314, 'loss': 0.08875478131266684, 'optimizer': 'rmsprop', 'batch_size': 64, 'epochs': 3}, {'model': 'model4', 'accuracy': 0.9918571710586548, 'loss': 0.20987209611913432, 'optimizer': 'rmsprop', 'batch_size': 64, 'epochs': 3}, {'model': 'model1', 'accuracy': 0.9919999837875366, 'loss': 0.12235030611458468, 'optimizer': 'rmsprop', 'batch_size': 256, 'epochs': 3}, {'model': 'model2', 'accuracy': 0.9905714392662048, 'loss': 0.11909645147531885, 'optimizer': 'rmsprop', 'batch_size': 256, 'epochs': 3}, {'model': 'model3', 'accuracy': 0.9898571372032166, 'loss': 0.09485615091886174, 'optimizer': 'rmsprop', 'batch_size': 256, 'epochs': 3}, {'model': 'model4', 'accuracy': 0.9907143115997314, 'loss': 0.21459728804953765, 'optimizer': 'rmsprop', 'batch_size': 256, 'epochs': 3}, {'model': 'model1', 'accuracy': 0.9907143115997314, 'loss': 0.16399363282535692, 'optimizer': 'rmsprop', 'batch_size': None, 'epochs': 5}, {'model': 'model2', 'accuracy': 0.9894285798072815, 'loss': 0.13205134779768235, 'optimizer': 'rmsprop', 'batch_size': None, 'epochs': 5}, {'model': 'model3', 'accuracy': 0.9904285669326782, 'loss': 0.10925801282642884, 'optimizer': 'rmsprop', 'batch_size': None, 'epochs': 5}, {'model': 'model4', 'accuracy': 0.9902856945991516, 'loss': 0.23616117161820344, 'optimizer': 'rmsprop', 'batch_size': None, 'epochs': 5}, {'model': 'model1', 'accuracy': 0.9908571243286133, 'loss': 0.1625256938580047, 'optimizer': 'rmsprop', 'batch_size': 64, 'epochs': 5}, {'model': 'model2', 'accuracy': 0.9909999966621399, 'loss': 0.12917246709561828, 'optimizer': 'rmsprop', 'batch_size': 64, 'epochs': 5}, {'model': 'model3', 'accuracy': 0.9894285798072815, 'loss': 0.11924578504732074, 'optimizer': 'rmsprop', 'batch_size': 64, 'epochs': 5}, {'model': 'model4', 'accuracy': 0.9897142648696899, 'loss': 0.2510105662018979, 'optimizer': 'rmsprop', 'batch_size': 64, 'epochs': 5}, {'model': 'model1', 'accuracy': 0.9915714263916016, 'loss': 0.14663997359097286, 'optimizer': 'rmsprop', 'batch_size': 256, 'epochs': 5}, {'model': 'model2', 'accuracy': 0.9901428818702698, 'loss': 0.12740545798784958, 'optimizer': 'rmsprop', 'batch_size': 256, 'epochs': 5}, {'model': 'model3', 'accuracy': 0.9900000095367432, 'loss': 0.11310455960930438, 'optimizer': 'rmsprop', 'batch_size': 256, 'epochs': 5}, {'model': 'model4', 'accuracy': 0.9911428689956665, 'loss': 0.21954061091046878, 'optimizer': 'rmsprop', 'batch_size': 256, 'epochs': 5}, {'model': 'model1', 'accuracy': 0.9922857284545898, 'loss': 0.17110529520636705, 'optimizer': 'rmsprop', 'batch_size': None, 'epochs': 10}, {'model': 'model2', 'accuracy': 0.9907143115997314, 'loss': 0.14769583588003868, 'optimizer': 'rmsprop', 'batch_size': None, 'epochs': 10}, {'model': 'model3', 'accuracy': 0.9901428818702698, 'loss': 0.12860816874581774, 'optimizer': 'rmsprop', 'batch_size': None, 'epochs': 10}, {'model': 'model4', 'accuracy': 0.9907143115997314, 'loss': 0.317988628790116, 'optimizer': 'rmsprop', 'batch_size': None, 'epochs': 10}, {'model': 'model1', 'accuracy': 0.9911428689956665, 'loss': 0.19509157946338826, 'optimizer': 'rmsprop', 'batch_size': 64, 'epochs': 10}, {'model': 'model2', 'accuracy': 0.9888571500778198, 'loss': 0.15517220015975852, 'optimizer': 'rmsprop', 'batch_size': 64, 'epochs': 10}, {'model': 'model3', 'accuracy': 0.9900000095367432, 'loss': 0.15330235710431703, 'optimizer': 'rmsprop', 'batch_size': 64, 'epochs': 10}, {'model': 'model4', 'accuracy': 0.9898571372032166, 'loss': 0.3135251674967052, 'optimizer': 'rmsprop', 'batch_size': 64, 'epochs': 10}, {'model': 'model1', 'accuracy': 0.991428554058075, 'loss': 0.20700847402119513, 'optimizer': 'rmsprop', 'batch_size': 256, 'epochs': 10}, {'model': 'model2', 'accuracy': 0.9909999966621399, 'loss': 0.15337056152609652, 'optimizer': 'rmsprop', 'batch_size': 256, 'epochs': 10}, {'model': 'model3', 'accuracy': 0.9894285798072815, 'loss': 0.15874005553471696, 'optimizer': 'rmsprop', 'batch_size': 256, 'epochs': 10}, {'model': 'model4', 'accuracy': 0.9918571710586548, 'loss': 0.2849140831074392, 'optimizer': 'rmsprop', 'batch_size': 256, 'epochs': 10}]\n"
     ]
    }
   ],
   "source": [
    "data = pickle.load( open( \"data.p\", \"rb\" ))\n",
    "print(data)"
   ]
  },
  {
   "cell_type": "markdown",
   "metadata": {},
   "source": [
    "Afficher les élements qui ont une précision supérieure à 0.9921"
   ]
  },
  {
   "cell_type": "code",
   "execution_count": 21,
   "metadata": {},
   "outputs": [
    {
     "name": "stdout",
     "output_type": "stream",
     "text": [
      "{'model': 'model1', 'accuracy': 0.9924286007881165, 'loss': 0.0790746036359165, 'optimizer': 'adamax', 'batch_size': 64, 'epochs': 3}\n",
      "{'model': 'model1', 'accuracy': 0.9921428561210632, 'loss': 0.08170548778263464, 'optimizer': 'adamax', 'batch_size': 256, 'epochs': 3}\n",
      "{'model': 'model1', 'accuracy': 0.9922857284545898, 'loss': 0.09389797186580769, 'optimizer': 'adamax', 'batch_size': 64, 'epochs': 5}\n",
      "{'model': 'model1', 'accuracy': 0.9924286007881165, 'loss': 0.09184012696102455, 'optimizer': 'adamax', 'batch_size': 256, 'epochs': 10}\n",
      "{'model': 'model1', 'accuracy': 0.9922857284545898, 'loss': 0.17110529520636705, 'optimizer': 'rmsprop', 'batch_size': None, 'epochs': 10}\n"
     ]
    }
   ],
   "source": [
    "best_info = {}\n",
    "max_acc = -1\n",
    "for info in data:\n",
    "    if info['accuracy'] > 0.9921:\n",
    "        print(info)\n",
    "        \n",
    "        "
   ]
  },
  {
   "cell_type": "markdown",
   "metadata": {},
   "source": [
    "### Affichage de l'évolution de l'égart et de la précision"
   ]
  },
  {
   "cell_type": "markdown",
   "metadata": {},
   "source": [
    "La fonction **get_data** Compare les éléments et obtient les données demandé de notre data.\n"
   ]
  },
  {
   "cell_type": "code",
   "execution_count": 74,
   "metadata": {},
   "outputs": [],
   "source": [
    "epochs_arr = [3, 5, 10]\n",
    "batchs = [None, 64, 256]\n",
    "optimizers=['adam', 'adamax', 'rmsprop']\n",
    "def get_data(var, epochs=-1, batch_size=-1, optimizer=''):\n",
    "    infos = []\n",
    "    if var == 'o': # optimizers\n",
    "        if not epochs in epochs_arr and not batch_size in batchs:\n",
    "            print('please check your function arguments')\n",
    "        else:\n",
    "            for info in data:\n",
    "                if info['epochs'] == epochs and info['batch_size'] == batch_size:\n",
    "                    infos.append(info)\n",
    "    elif var == 'b': # batch_size\n",
    "        if not epochs in epochs_arr and not optimizer in optimezers :\n",
    "            print('please check your function arguments')\n",
    "        else:\n",
    "            for info in data:\n",
    "                if info['epochs'] == epochs and info['optimizer'] == optimizer:\n",
    "                    infos.append(info)\n",
    "    elif var == 'e': # epochs\n",
    "        if not batch_size in batchs and not optimizer in optimizers :\n",
    "            print('please check your function arguments')\n",
    "        else:\n",
    "            for info in data:\n",
    "                if info['batch_size'] == batch_size and info['optimizer'] == optimizer:\n",
    "                    infos.append(info)\n",
    "    return infos"
   ]
  },
  {
   "cell_type": "markdown",
   "metadata": {},
   "source": [
    "La fonction **plot()** nous permet de tracer l'évolution de l'égart (loss) et la précision (acc) des 4 modéles en fonction de l'optimizer, epochs et batch size.\n",
    "La fonction nous permet de choisir notre variable:\n",
    "\n",
    "&nbsp;&nbsp;&nbsp;&nbsp;&nbsp;&nbsp;\"o\" pour optimizers.<br>\n",
    "&nbsp;&nbsp;&nbsp;&nbsp;&nbsp;&nbsp;\"e\" pour epochs.<br>\n",
    "&nbsp;&nbsp;&nbsp;&nbsp;&nbsp;&nbsp;\"b\" pour batch size.<br>\n",
    "&nbsp;&nbsp;&nbsp;&nbsp;&nbsp;&nbsp;\"c\" pour cancel.<br>\n",
    "\n",
    "et ensuite de choisir les autres éléments. "
   ]
  },
  {
   "cell_type": "code",
   "execution_count": 92,
   "metadata": {},
   "outputs": [],
   "source": [
    "def plot():\n",
    "    \n",
    "    plt.style.use('seaborn')\n",
    "    font = {'family' : 'Arial',\n",
    "            'size'   : 15}\n",
    "    matplotlib.rc('font', **font)\n",
    "    \n",
    "    data = []\n",
    "    optimizers = ['adam', 'adamax', 'rmsprop']\n",
    "    variable = input('Please enter your varibale param [o: optimizer, b: batch_size, e: epochs, c: cancel]')\n",
    "    while not variable in ['o', 'e', 'b', 'c']:\n",
    "        variable = input('Please enter a valid char [o: optimizer, b: batch_size, e: epochs, c: cancel]')\n",
    "    \n",
    "    if variable == 'c':\n",
    "        print('You are out!')\n",
    "        return\n",
    "    else:\n",
    "        if variable == 'o':\n",
    "            x_axis = ['adam', 'adamax', 'rmsprop']\n",
    "            epochs = input('Please enter epochs : ')\n",
    "            batch_size= input('Please enter batch size [0 for None] : ')\n",
    "            if batch_size == '0':\n",
    "                print('here')\n",
    "                data = get_data(variable,  epochs = int(epochs), batch_size=None)\n",
    "            else:\n",
    "                data = get_data(variable,  epochs = int(epochs), batch_size=int(batch_size))\n",
    "                \n",
    "        elif variable == 'e':\n",
    "            x_axis = [3,5,10]\n",
    "            batch_size= input('Please enter batch size [0 for None] : ')\n",
    "            optimizer = input('1 : adam, 2 : adamax, 3 : rmsprop [choose 1, 2, or 3]')\n",
    "            if int(optimizer) < 4:\n",
    "                if batch_size == '0':\n",
    "                    data = get_data(variable, batch_size=None, optimizer=optimizers[int(optimizer) -1])\n",
    "                else:\n",
    "                    data = get_data(variable, batch_size=int(batch_size), optimizer=optimizers[int(optimizer) -1])\n",
    "            else:\n",
    "                print('Please next time select a number between 1 and 3')\n",
    "        \n",
    "        elif variable == 'b':\n",
    "            x_axis = ['None', '64', '256']\n",
    "            epochs = input('Please enter epochs : ')\n",
    "            optimizer = input('1 : adam, 2 : adamax, 3 : rmsprop [choose 1, 2, or 3]')\n",
    "            if int(optimizer) < 4:\n",
    "                data = get_data(variable, epochs=int(epochs), optimizer=optimizers[int(optimizer) -1])\n",
    "            else:\n",
    "                print('Please next time select a number between 1 and 3')\n",
    "                \n",
    "        dataframe = pd.DataFrame(data)\n",
    "        fig, ((ax1, ax2), (ax3, ax4)) = plt.subplots(nrows=2, ncols=2)\n",
    "        subplots = [ax1, ax2, ax3, ax4]\n",
    "        models = ['model1', 'model2', 'model3', 'model4']\n",
    "        \n",
    "    \n",
    "        print(dataframe)\n",
    "        \n",
    "\n",
    "        for i in range(4):\n",
    "            model = dataframe['model'] == models[i]\n",
    "            acc = dataframe[model]['accuracy']\n",
    "            loss = dataframe[model]['loss']\n",
    "            subplots[i].plot(x_axis, acc, label='accuracy')\n",
    "            subplots[i].plot(x_axis, loss, label='loss')\n",
    "            subplots[i].legend()\n",
    "            subplots[i].set_title('model '+str(i+1))\n",
    "            subplots[i].set_ylabel('accuracy/loss')\n",
    "            subplots[i].set_xlabel('optimizer')\n",
    "    \n",
    "        \n",
    "    "
   ]
  },
  {
   "cell_type": "code",
   "execution_count": 93,
   "metadata": {},
   "outputs": [
    {
     "name": "stdout",
     "output_type": "stream",
     "text": [
      "Please enter your varibale param [o: optimizer, b: batch_size, e: epochs, c: cancel]o\n",
      "Please enter epochs : 3\n",
      "Please enter batch size [0 for None] : 256\n",
      "     model  accuracy      loss optimizer  batch_size  epochs\n",
      "0   model1  0.990857  0.039093      adam         256       3\n",
      "1   model2  0.989143  0.052594      adam         256       3\n",
      "2   model3  0.989286  0.042070      adam         256       3\n",
      "3   model4  0.990286  0.040845      adam         256       3\n",
      "4   model1  0.992143  0.081705    adamax         256       3\n",
      "5   model2  0.991857  0.062956    adamax         256       3\n",
      "6   model3  0.989143  0.063902    adamax         256       3\n",
      "7   model4  0.990857  0.115299    adamax         256       3\n",
      "8   model1  0.992000  0.122350   rmsprop         256       3\n",
      "9   model2  0.990571  0.119096   rmsprop         256       3\n",
      "10  model3  0.989857  0.094856   rmsprop         256       3\n",
      "11  model4  0.990714  0.214597   rmsprop         256       3\n"
     ]
    },
    {
     "data": {
      "image/png": "[encoded data removed]",
      "text/plain": [
       "<Figure size 576x396 with 4 Axes>"
      ]
     },
     "metadata": {},
     "output_type": "display_data"
    }
   ],
   "source": [
    "plot()"
   ]
  },
  {
   "cell_type": "code",
   "execution_count": null,
   "metadata": {},
   "outputs": [],
   "source": []
  }
 ],
 "metadata": {
  "kernelspec": {
   "display_name": "Python 3",
   "language": "python",
   "name": "python3"
  },
  "language_info": {
   "codemirror_mode": {
    "name": "ipython",
    "version": 3
   },
   "file_extension": ".py",
   "mimetype": "text/x-python",
   "name": "python",
   "nbconvert_exporter": "python",
   "pygments_lexer": "ipython3",
   "version": "3.7.6"
  }
 },
 "nbformat": 4,
 "nbformat_minor": 4
}
